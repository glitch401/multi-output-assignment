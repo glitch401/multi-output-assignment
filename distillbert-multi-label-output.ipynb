{
  "nbformat": 4,
  "nbformat_minor": 0,
  "metadata": {
    "colab": {
      "name": "text-labels.ipynb",
      "provenance": [],
      "collapsed_sections": [],
      "mount_file_id": "1xP9ympYocjbHj-mhbOgs9YZz1nrI04fy",
      "authorship_tag": "ABX9TyMjSSTpG+LukpQlVhsgVYg7",
      "include_colab_link": true
    },
    "kernelspec": {
      "name": "python3",
      "display_name": "Python 3"
    },
    "language_info": {
      "name": "python"
    },
    "widgets": {
      "application/vnd.jupyter.widget-state+json": {
        "2e1836f9e1e04411b080c7bf68d6ff50": {
          "model_module": "@jupyter-widgets/controls",
          "model_name": "HBoxModel",
          "model_module_version": "1.5.0",
          "state": {
            "_view_name": "HBoxView",
            "_dom_classes": [],
            "_model_name": "HBoxModel",
            "_view_module": "@jupyter-widgets/controls",
            "_model_module_version": "1.5.0",
            "_view_count": null,
            "_view_module_version": "1.5.0",
            "box_style": "",
            "layout": "IPY_MODEL_9d95ef6278724a73a91f74b086a04ac7",
            "_model_module": "@jupyter-widgets/controls",
            "children": [
              "IPY_MODEL_39427feab33b41b0800f99376460cc43",
              "IPY_MODEL_25df1719ece241e098a94ac710ba9f96",
              "IPY_MODEL_0772e153192f4472acae7558ac4e0f3b"
            ]
          }
        },
        "9d95ef6278724a73a91f74b086a04ac7": {
          "model_module": "@jupyter-widgets/base",
          "model_name": "LayoutModel",
          "model_module_version": "1.2.0",
          "state": {
            "_view_name": "LayoutView",
            "grid_template_rows": null,
            "right": null,
            "justify_content": null,
            "_view_module": "@jupyter-widgets/base",
            "overflow": null,
            "_model_module_version": "1.2.0",
            "_view_count": null,
            "flex_flow": null,
            "width": null,
            "min_width": null,
            "border": null,
            "align_items": null,
            "bottom": null,
            "_model_module": "@jupyter-widgets/base",
            "top": null,
            "grid_column": null,
            "overflow_y": null,
            "overflow_x": null,
            "grid_auto_flow": null,
            "grid_area": null,
            "grid_template_columns": null,
            "flex": null,
            "_model_name": "LayoutModel",
            "justify_items": null,
            "grid_row": null,
            "max_height": null,
            "align_content": null,
            "visibility": null,
            "align_self": null,
            "height": null,
            "min_height": null,
            "padding": null,
            "grid_auto_rows": null,
            "grid_gap": null,
            "max_width": null,
            "order": null,
            "_view_module_version": "1.2.0",
            "grid_template_areas": null,
            "object_position": null,
            "object_fit": null,
            "grid_auto_columns": null,
            "margin": null,
            "display": null,
            "left": null
          }
        },
        "39427feab33b41b0800f99376460cc43": {
          "model_module": "@jupyter-widgets/controls",
          "model_name": "HTMLModel",
          "model_module_version": "1.5.0",
          "state": {
            "_view_name": "HTMLView",
            "style": "IPY_MODEL_4892df1b099746e295a819bcfe9197bd",
            "_dom_classes": [],
            "description": "",
            "_model_name": "HTMLModel",
            "placeholder": "​",
            "_view_module": "@jupyter-widgets/controls",
            "_model_module_version": "1.5.0",
            "value": "Downloading: 100%",
            "_view_count": null,
            "_view_module_version": "1.5.0",
            "description_tooltip": null,
            "_model_module": "@jupyter-widgets/controls",
            "layout": "IPY_MODEL_efdfa1f9770e4744b5f1ccf705851ada"
          }
        },
        "25df1719ece241e098a94ac710ba9f96": {
          "model_module": "@jupyter-widgets/controls",
          "model_name": "FloatProgressModel",
          "model_module_version": "1.5.0",
          "state": {
            "_view_name": "ProgressView",
            "style": "IPY_MODEL_4592c066ffac4d2a948869179ccb3f6d",
            "_dom_classes": [],
            "description": "",
            "_model_name": "FloatProgressModel",
            "bar_style": "success",
            "max": 231508,
            "_view_module": "@jupyter-widgets/controls",
            "_model_module_version": "1.5.0",
            "value": 231508,
            "_view_count": null,
            "_view_module_version": "1.5.0",
            "orientation": "horizontal",
            "min": 0,
            "description_tooltip": null,
            "_model_module": "@jupyter-widgets/controls",
            "layout": "IPY_MODEL_a116e6a9f17a4292979f52af59d6ddbf"
          }
        },
        "0772e153192f4472acae7558ac4e0f3b": {
          "model_module": "@jupyter-widgets/controls",
          "model_name": "HTMLModel",
          "model_module_version": "1.5.0",
          "state": {
            "_view_name": "HTMLView",
            "style": "IPY_MODEL_9b05370c51564fabb46629dc93caf05e",
            "_dom_classes": [],
            "description": "",
            "_model_name": "HTMLModel",
            "placeholder": "​",
            "_view_module": "@jupyter-widgets/controls",
            "_model_module_version": "1.5.0",
            "value": " 226k/226k [00:00&lt;00:00, 3.07MB/s]",
            "_view_count": null,
            "_view_module_version": "1.5.0",
            "description_tooltip": null,
            "_model_module": "@jupyter-widgets/controls",
            "layout": "IPY_MODEL_9c2684d19c334bbfa2d55ae7a9a9683d"
          }
        },
        "4892df1b099746e295a819bcfe9197bd": {
          "model_module": "@jupyter-widgets/controls",
          "model_name": "DescriptionStyleModel",
          "model_module_version": "1.5.0",
          "state": {
            "_view_name": "StyleView",
            "_model_name": "DescriptionStyleModel",
            "description_width": "",
            "_view_module": "@jupyter-widgets/base",
            "_model_module_version": "1.5.0",
            "_view_count": null,
            "_view_module_version": "1.2.0",
            "_model_module": "@jupyter-widgets/controls"
          }
        },
        "efdfa1f9770e4744b5f1ccf705851ada": {
          "model_module": "@jupyter-widgets/base",
          "model_name": "LayoutModel",
          "model_module_version": "1.2.0",
          "state": {
            "_view_name": "LayoutView",
            "grid_template_rows": null,
            "right": null,
            "justify_content": null,
            "_view_module": "@jupyter-widgets/base",
            "overflow": null,
            "_model_module_version": "1.2.0",
            "_view_count": null,
            "flex_flow": null,
            "width": null,
            "min_width": null,
            "border": null,
            "align_items": null,
            "bottom": null,
            "_model_module": "@jupyter-widgets/base",
            "top": null,
            "grid_column": null,
            "overflow_y": null,
            "overflow_x": null,
            "grid_auto_flow": null,
            "grid_area": null,
            "grid_template_columns": null,
            "flex": null,
            "_model_name": "LayoutModel",
            "justify_items": null,
            "grid_row": null,
            "max_height": null,
            "align_content": null,
            "visibility": null,
            "align_self": null,
            "height": null,
            "min_height": null,
            "padding": null,
            "grid_auto_rows": null,
            "grid_gap": null,
            "max_width": null,
            "order": null,
            "_view_module_version": "1.2.0",
            "grid_template_areas": null,
            "object_position": null,
            "object_fit": null,
            "grid_auto_columns": null,
            "margin": null,
            "display": null,
            "left": null
          }
        },
        "4592c066ffac4d2a948869179ccb3f6d": {
          "model_module": "@jupyter-widgets/controls",
          "model_name": "ProgressStyleModel",
          "model_module_version": "1.5.0",
          "state": {
            "_view_name": "StyleView",
            "_model_name": "ProgressStyleModel",
            "description_width": "",
            "_view_module": "@jupyter-widgets/base",
            "_model_module_version": "1.5.0",
            "_view_count": null,
            "_view_module_version": "1.2.0",
            "bar_color": null,
            "_model_module": "@jupyter-widgets/controls"
          }
        },
        "a116e6a9f17a4292979f52af59d6ddbf": {
          "model_module": "@jupyter-widgets/base",
          "model_name": "LayoutModel",
          "model_module_version": "1.2.0",
          "state": {
            "_view_name": "LayoutView",
            "grid_template_rows": null,
            "right": null,
            "justify_content": null,
            "_view_module": "@jupyter-widgets/base",
            "overflow": null,
            "_model_module_version": "1.2.0",
            "_view_count": null,
            "flex_flow": null,
            "width": null,
            "min_width": null,
            "border": null,
            "align_items": null,
            "bottom": null,
            "_model_module": "@jupyter-widgets/base",
            "top": null,
            "grid_column": null,
            "overflow_y": null,
            "overflow_x": null,
            "grid_auto_flow": null,
            "grid_area": null,
            "grid_template_columns": null,
            "flex": null,
            "_model_name": "LayoutModel",
            "justify_items": null,
            "grid_row": null,
            "max_height": null,
            "align_content": null,
            "visibility": null,
            "align_self": null,
            "height": null,
            "min_height": null,
            "padding": null,
            "grid_auto_rows": null,
            "grid_gap": null,
            "max_width": null,
            "order": null,
            "_view_module_version": "1.2.0",
            "grid_template_areas": null,
            "object_position": null,
            "object_fit": null,
            "grid_auto_columns": null,
            "margin": null,
            "display": null,
            "left": null
          }
        },
        "9b05370c51564fabb46629dc93caf05e": {
          "model_module": "@jupyter-widgets/controls",
          "model_name": "DescriptionStyleModel",
          "model_module_version": "1.5.0",
          "state": {
            "_view_name": "StyleView",
            "_model_name": "DescriptionStyleModel",
            "description_width": "",
            "_view_module": "@jupyter-widgets/base",
            "_model_module_version": "1.5.0",
            "_view_count": null,
            "_view_module_version": "1.2.0",
            "_model_module": "@jupyter-widgets/controls"
          }
        },
        "9c2684d19c334bbfa2d55ae7a9a9683d": {
          "model_module": "@jupyter-widgets/base",
          "model_name": "LayoutModel",
          "model_module_version": "1.2.0",
          "state": {
            "_view_name": "LayoutView",
            "grid_template_rows": null,
            "right": null,
            "justify_content": null,
            "_view_module": "@jupyter-widgets/base",
            "overflow": null,
            "_model_module_version": "1.2.0",
            "_view_count": null,
            "flex_flow": null,
            "width": null,
            "min_width": null,
            "border": null,
            "align_items": null,
            "bottom": null,
            "_model_module": "@jupyter-widgets/base",
            "top": null,
            "grid_column": null,
            "overflow_y": null,
            "overflow_x": null,
            "grid_auto_flow": null,
            "grid_area": null,
            "grid_template_columns": null,
            "flex": null,
            "_model_name": "LayoutModel",
            "justify_items": null,
            "grid_row": null,
            "max_height": null,
            "align_content": null,
            "visibility": null,
            "align_self": null,
            "height": null,
            "min_height": null,
            "padding": null,
            "grid_auto_rows": null,
            "grid_gap": null,
            "max_width": null,
            "order": null,
            "_view_module_version": "1.2.0",
            "grid_template_areas": null,
            "object_position": null,
            "object_fit": null,
            "grid_auto_columns": null,
            "margin": null,
            "display": null,
            "left": null
          }
        },
        "3b920de5621048dd98f4a3349d668666": {
          "model_module": "@jupyter-widgets/controls",
          "model_name": "HBoxModel",
          "model_module_version": "1.5.0",
          "state": {
            "_view_name": "HBoxView",
            "_dom_classes": [],
            "_model_name": "HBoxModel",
            "_view_module": "@jupyter-widgets/controls",
            "_model_module_version": "1.5.0",
            "_view_count": null,
            "_view_module_version": "1.5.0",
            "box_style": "",
            "layout": "IPY_MODEL_8be599e5593e4d22b1bf1e8e1e327d91",
            "_model_module": "@jupyter-widgets/controls",
            "children": [
              "IPY_MODEL_15e139fcb2b74c62a33c14c316ba602d",
              "IPY_MODEL_372c47e632f4437cbfd15b60b4aaedba",
              "IPY_MODEL_8f17a95c1ba54acba27552f109e668f1"
            ]
          }
        },
        "8be599e5593e4d22b1bf1e8e1e327d91": {
          "model_module": "@jupyter-widgets/base",
          "model_name": "LayoutModel",
          "model_module_version": "1.2.0",
          "state": {
            "_view_name": "LayoutView",
            "grid_template_rows": null,
            "right": null,
            "justify_content": null,
            "_view_module": "@jupyter-widgets/base",
            "overflow": null,
            "_model_module_version": "1.2.0",
            "_view_count": null,
            "flex_flow": null,
            "width": null,
            "min_width": null,
            "border": null,
            "align_items": null,
            "bottom": null,
            "_model_module": "@jupyter-widgets/base",
            "top": null,
            "grid_column": null,
            "overflow_y": null,
            "overflow_x": null,
            "grid_auto_flow": null,
            "grid_area": null,
            "grid_template_columns": null,
            "flex": null,
            "_model_name": "LayoutModel",
            "justify_items": null,
            "grid_row": null,
            "max_height": null,
            "align_content": null,
            "visibility": null,
            "align_self": null,
            "height": null,
            "min_height": null,
            "padding": null,
            "grid_auto_rows": null,
            "grid_gap": null,
            "max_width": null,
            "order": null,
            "_view_module_version": "1.2.0",
            "grid_template_areas": null,
            "object_position": null,
            "object_fit": null,
            "grid_auto_columns": null,
            "margin": null,
            "display": null,
            "left": null
          }
        },
        "15e139fcb2b74c62a33c14c316ba602d": {
          "model_module": "@jupyter-widgets/controls",
          "model_name": "HTMLModel",
          "model_module_version": "1.5.0",
          "state": {
            "_view_name": "HTMLView",
            "style": "IPY_MODEL_ec5c01d313674f76b2985ce2c2bcf181",
            "_dom_classes": [],
            "description": "",
            "_model_name": "HTMLModel",
            "placeholder": "​",
            "_view_module": "@jupyter-widgets/controls",
            "_model_module_version": "1.5.0",
            "value": "Downloading: 100%",
            "_view_count": null,
            "_view_module_version": "1.5.0",
            "description_tooltip": null,
            "_model_module": "@jupyter-widgets/controls",
            "layout": "IPY_MODEL_c3cfc3cbde00453eb5cb660c19d2646f"
          }
        },
        "372c47e632f4437cbfd15b60b4aaedba": {
          "model_module": "@jupyter-widgets/controls",
          "model_name": "FloatProgressModel",
          "model_module_version": "1.5.0",
          "state": {
            "_view_name": "ProgressView",
            "style": "IPY_MODEL_20ee91dd11444b3f8e7587ec8825a460",
            "_dom_classes": [],
            "description": "",
            "_model_name": "FloatProgressModel",
            "bar_style": "success",
            "max": 28,
            "_view_module": "@jupyter-widgets/controls",
            "_model_module_version": "1.5.0",
            "value": 28,
            "_view_count": null,
            "_view_module_version": "1.5.0",
            "orientation": "horizontal",
            "min": 0,
            "description_tooltip": null,
            "_model_module": "@jupyter-widgets/controls",
            "layout": "IPY_MODEL_4136487eb7fa4b099c868dc16aedb5e5"
          }
        },
        "8f17a95c1ba54acba27552f109e668f1": {
          "model_module": "@jupyter-widgets/controls",
          "model_name": "HTMLModel",
          "model_module_version": "1.5.0",
          "state": {
            "_view_name": "HTMLView",
            "style": "IPY_MODEL_9bb6a8ce148e4fafa14290304883dc2e",
            "_dom_classes": [],
            "description": "",
            "_model_name": "HTMLModel",
            "placeholder": "​",
            "_view_module": "@jupyter-widgets/controls",
            "_model_module_version": "1.5.0",
            "value": " 28.0/28.0 [00:00&lt;00:00, 422B/s]",
            "_view_count": null,
            "_view_module_version": "1.5.0",
            "description_tooltip": null,
            "_model_module": "@jupyter-widgets/controls",
            "layout": "IPY_MODEL_534c73f7bd574d9ebd7990ef2c12b1aa"
          }
        },
        "ec5c01d313674f76b2985ce2c2bcf181": {
          "model_module": "@jupyter-widgets/controls",
          "model_name": "DescriptionStyleModel",
          "model_module_version": "1.5.0",
          "state": {
            "_view_name": "StyleView",
            "_model_name": "DescriptionStyleModel",
            "description_width": "",
            "_view_module": "@jupyter-widgets/base",
            "_model_module_version": "1.5.0",
            "_view_count": null,
            "_view_module_version": "1.2.0",
            "_model_module": "@jupyter-widgets/controls"
          }
        },
        "c3cfc3cbde00453eb5cb660c19d2646f": {
          "model_module": "@jupyter-widgets/base",
          "model_name": "LayoutModel",
          "model_module_version": "1.2.0",
          "state": {
            "_view_name": "LayoutView",
            "grid_template_rows": null,
            "right": null,
            "justify_content": null,
            "_view_module": "@jupyter-widgets/base",
            "overflow": null,
            "_model_module_version": "1.2.0",
            "_view_count": null,
            "flex_flow": null,
            "width": null,
            "min_width": null,
            "border": null,
            "align_items": null,
            "bottom": null,
            "_model_module": "@jupyter-widgets/base",
            "top": null,
            "grid_column": null,
            "overflow_y": null,
            "overflow_x": null,
            "grid_auto_flow": null,
            "grid_area": null,
            "grid_template_columns": null,
            "flex": null,
            "_model_name": "LayoutModel",
            "justify_items": null,
            "grid_row": null,
            "max_height": null,
            "align_content": null,
            "visibility": null,
            "align_self": null,
            "height": null,
            "min_height": null,
            "padding": null,
            "grid_auto_rows": null,
            "grid_gap": null,
            "max_width": null,
            "order": null,
            "_view_module_version": "1.2.0",
            "grid_template_areas": null,
            "object_position": null,
            "object_fit": null,
            "grid_auto_columns": null,
            "margin": null,
            "display": null,
            "left": null
          }
        },
        "20ee91dd11444b3f8e7587ec8825a460": {
          "model_module": "@jupyter-widgets/controls",
          "model_name": "ProgressStyleModel",
          "model_module_version": "1.5.0",
          "state": {
            "_view_name": "StyleView",
            "_model_name": "ProgressStyleModel",
            "description_width": "",
            "_view_module": "@jupyter-widgets/base",
            "_model_module_version": "1.5.0",
            "_view_count": null,
            "_view_module_version": "1.2.0",
            "bar_color": null,
            "_model_module": "@jupyter-widgets/controls"
          }
        },
        "4136487eb7fa4b099c868dc16aedb5e5": {
          "model_module": "@jupyter-widgets/base",
          "model_name": "LayoutModel",
          "model_module_version": "1.2.0",
          "state": {
            "_view_name": "LayoutView",
            "grid_template_rows": null,
            "right": null,
            "justify_content": null,
            "_view_module": "@jupyter-widgets/base",
            "overflow": null,
            "_model_module_version": "1.2.0",
            "_view_count": null,
            "flex_flow": null,
            "width": null,
            "min_width": null,
            "border": null,
            "align_items": null,
            "bottom": null,
            "_model_module": "@jupyter-widgets/base",
            "top": null,
            "grid_column": null,
            "overflow_y": null,
            "overflow_x": null,
            "grid_auto_flow": null,
            "grid_area": null,
            "grid_template_columns": null,
            "flex": null,
            "_model_name": "LayoutModel",
            "justify_items": null,
            "grid_row": null,
            "max_height": null,
            "align_content": null,
            "visibility": null,
            "align_self": null,
            "height": null,
            "min_height": null,
            "padding": null,
            "grid_auto_rows": null,
            "grid_gap": null,
            "max_width": null,
            "order": null,
            "_view_module_version": "1.2.0",
            "grid_template_areas": null,
            "object_position": null,
            "object_fit": null,
            "grid_auto_columns": null,
            "margin": null,
            "display": null,
            "left": null
          }
        },
        "9bb6a8ce148e4fafa14290304883dc2e": {
          "model_module": "@jupyter-widgets/controls",
          "model_name": "DescriptionStyleModel",
          "model_module_version": "1.5.0",
          "state": {
            "_view_name": "StyleView",
            "_model_name": "DescriptionStyleModel",
            "description_width": "",
            "_view_module": "@jupyter-widgets/base",
            "_model_module_version": "1.5.0",
            "_view_count": null,
            "_view_module_version": "1.2.0",
            "_model_module": "@jupyter-widgets/controls"
          }
        },
        "534c73f7bd574d9ebd7990ef2c12b1aa": {
          "model_module": "@jupyter-widgets/base",
          "model_name": "LayoutModel",
          "model_module_version": "1.2.0",
          "state": {
            "_view_name": "LayoutView",
            "grid_template_rows": null,
            "right": null,
            "justify_content": null,
            "_view_module": "@jupyter-widgets/base",
            "overflow": null,
            "_model_module_version": "1.2.0",
            "_view_count": null,
            "flex_flow": null,
            "width": null,
            "min_width": null,
            "border": null,
            "align_items": null,
            "bottom": null,
            "_model_module": "@jupyter-widgets/base",
            "top": null,
            "grid_column": null,
            "overflow_y": null,
            "overflow_x": null,
            "grid_auto_flow": null,
            "grid_area": null,
            "grid_template_columns": null,
            "flex": null,
            "_model_name": "LayoutModel",
            "justify_items": null,
            "grid_row": null,
            "max_height": null,
            "align_content": null,
            "visibility": null,
            "align_self": null,
            "height": null,
            "min_height": null,
            "padding": null,
            "grid_auto_rows": null,
            "grid_gap": null,
            "max_width": null,
            "order": null,
            "_view_module_version": "1.2.0",
            "grid_template_areas": null,
            "object_position": null,
            "object_fit": null,
            "grid_auto_columns": null,
            "margin": null,
            "display": null,
            "left": null
          }
        },
        "3a11f95b1e3d4f739865d5e9bc3bec6a": {
          "model_module": "@jupyter-widgets/controls",
          "model_name": "HBoxModel",
          "model_module_version": "1.5.0",
          "state": {
            "_view_name": "HBoxView",
            "_dom_classes": [],
            "_model_name": "HBoxModel",
            "_view_module": "@jupyter-widgets/controls",
            "_model_module_version": "1.5.0",
            "_view_count": null,
            "_view_module_version": "1.5.0",
            "box_style": "",
            "layout": "IPY_MODEL_087b44ff660d4050aa66fc5afa4c20ab",
            "_model_module": "@jupyter-widgets/controls",
            "children": [
              "IPY_MODEL_a15ca8f0a1ad4c29b31d569a7ad7fcae",
              "IPY_MODEL_f3fe7e541f3d403d8ffd05da8b4b6624",
              "IPY_MODEL_fcbbf4ac46ff4e6482c78061a9ceaf0b"
            ]
          }
        },
        "087b44ff660d4050aa66fc5afa4c20ab": {
          "model_module": "@jupyter-widgets/base",
          "model_name": "LayoutModel",
          "model_module_version": "1.2.0",
          "state": {
            "_view_name": "LayoutView",
            "grid_template_rows": null,
            "right": null,
            "justify_content": null,
            "_view_module": "@jupyter-widgets/base",
            "overflow": null,
            "_model_module_version": "1.2.0",
            "_view_count": null,
            "flex_flow": null,
            "width": null,
            "min_width": null,
            "border": null,
            "align_items": null,
            "bottom": null,
            "_model_module": "@jupyter-widgets/base",
            "top": null,
            "grid_column": null,
            "overflow_y": null,
            "overflow_x": null,
            "grid_auto_flow": null,
            "grid_area": null,
            "grid_template_columns": null,
            "flex": null,
            "_model_name": "LayoutModel",
            "justify_items": null,
            "grid_row": null,
            "max_height": null,
            "align_content": null,
            "visibility": null,
            "align_self": null,
            "height": null,
            "min_height": null,
            "padding": null,
            "grid_auto_rows": null,
            "grid_gap": null,
            "max_width": null,
            "order": null,
            "_view_module_version": "1.2.0",
            "grid_template_areas": null,
            "object_position": null,
            "object_fit": null,
            "grid_auto_columns": null,
            "margin": null,
            "display": null,
            "left": null
          }
        },
        "a15ca8f0a1ad4c29b31d569a7ad7fcae": {
          "model_module": "@jupyter-widgets/controls",
          "model_name": "HTMLModel",
          "model_module_version": "1.5.0",
          "state": {
            "_view_name": "HTMLView",
            "style": "IPY_MODEL_91d76870a34b42109329f1995bfcb773",
            "_dom_classes": [],
            "description": "",
            "_model_name": "HTMLModel",
            "placeholder": "​",
            "_view_module": "@jupyter-widgets/controls",
            "_model_module_version": "1.5.0",
            "value": "Downloading: 100%",
            "_view_count": null,
            "_view_module_version": "1.5.0",
            "description_tooltip": null,
            "_model_module": "@jupyter-widgets/controls",
            "layout": "IPY_MODEL_f08ce9efc29c42098a5518b9a3fa58b8"
          }
        },
        "f3fe7e541f3d403d8ffd05da8b4b6624": {
          "model_module": "@jupyter-widgets/controls",
          "model_name": "FloatProgressModel",
          "model_module_version": "1.5.0",
          "state": {
            "_view_name": "ProgressView",
            "style": "IPY_MODEL_6aa2b94d98ab4c9aa4cbaca34b62b601",
            "_dom_classes": [],
            "description": "",
            "_model_name": "FloatProgressModel",
            "bar_style": "success",
            "max": 466062,
            "_view_module": "@jupyter-widgets/controls",
            "_model_module_version": "1.5.0",
            "value": 466062,
            "_view_count": null,
            "_view_module_version": "1.5.0",
            "orientation": "horizontal",
            "min": 0,
            "description_tooltip": null,
            "_model_module": "@jupyter-widgets/controls",
            "layout": "IPY_MODEL_b15add6c638a4d1f87a55f796de5b85e"
          }
        },
        "fcbbf4ac46ff4e6482c78061a9ceaf0b": {
          "model_module": "@jupyter-widgets/controls",
          "model_name": "HTMLModel",
          "model_module_version": "1.5.0",
          "state": {
            "_view_name": "HTMLView",
            "style": "IPY_MODEL_aac2a0060e484f9997175436da5b2343",
            "_dom_classes": [],
            "description": "",
            "_model_name": "HTMLModel",
            "placeholder": "​",
            "_view_module": "@jupyter-widgets/controls",
            "_model_module_version": "1.5.0",
            "value": " 455k/455k [00:00&lt;00:00, 418kB/s]",
            "_view_count": null,
            "_view_module_version": "1.5.0",
            "description_tooltip": null,
            "_model_module": "@jupyter-widgets/controls",
            "layout": "IPY_MODEL_201028892cf547ed949f3c78bfaaac7a"
          }
        },
        "91d76870a34b42109329f1995bfcb773": {
          "model_module": "@jupyter-widgets/controls",
          "model_name": "DescriptionStyleModel",
          "model_module_version": "1.5.0",
          "state": {
            "_view_name": "StyleView",
            "_model_name": "DescriptionStyleModel",
            "description_width": "",
            "_view_module": "@jupyter-widgets/base",
            "_model_module_version": "1.5.0",
            "_view_count": null,
            "_view_module_version": "1.2.0",
            "_model_module": "@jupyter-widgets/controls"
          }
        },
        "f08ce9efc29c42098a5518b9a3fa58b8": {
          "model_module": "@jupyter-widgets/base",
          "model_name": "LayoutModel",
          "model_module_version": "1.2.0",
          "state": {
            "_view_name": "LayoutView",
            "grid_template_rows": null,
            "right": null,
            "justify_content": null,
            "_view_module": "@jupyter-widgets/base",
            "overflow": null,
            "_model_module_version": "1.2.0",
            "_view_count": null,
            "flex_flow": null,
            "width": null,
            "min_width": null,
            "border": null,
            "align_items": null,
            "bottom": null,
            "_model_module": "@jupyter-widgets/base",
            "top": null,
            "grid_column": null,
            "overflow_y": null,
            "overflow_x": null,
            "grid_auto_flow": null,
            "grid_area": null,
            "grid_template_columns": null,
            "flex": null,
            "_model_name": "LayoutModel",
            "justify_items": null,
            "grid_row": null,
            "max_height": null,
            "align_content": null,
            "visibility": null,
            "align_self": null,
            "height": null,
            "min_height": null,
            "padding": null,
            "grid_auto_rows": null,
            "grid_gap": null,
            "max_width": null,
            "order": null,
            "_view_module_version": "1.2.0",
            "grid_template_areas": null,
            "object_position": null,
            "object_fit": null,
            "grid_auto_columns": null,
            "margin": null,
            "display": null,
            "left": null
          }
        },
        "6aa2b94d98ab4c9aa4cbaca34b62b601": {
          "model_module": "@jupyter-widgets/controls",
          "model_name": "ProgressStyleModel",
          "model_module_version": "1.5.0",
          "state": {
            "_view_name": "StyleView",
            "_model_name": "ProgressStyleModel",
            "description_width": "",
            "_view_module": "@jupyter-widgets/base",
            "_model_module_version": "1.5.0",
            "_view_count": null,
            "_view_module_version": "1.2.0",
            "bar_color": null,
            "_model_module": "@jupyter-widgets/controls"
          }
        },
        "b15add6c638a4d1f87a55f796de5b85e": {
          "model_module": "@jupyter-widgets/base",
          "model_name": "LayoutModel",
          "model_module_version": "1.2.0",
          "state": {
            "_view_name": "LayoutView",
            "grid_template_rows": null,
            "right": null,
            "justify_content": null,
            "_view_module": "@jupyter-widgets/base",
            "overflow": null,
            "_model_module_version": "1.2.0",
            "_view_count": null,
            "flex_flow": null,
            "width": null,
            "min_width": null,
            "border": null,
            "align_items": null,
            "bottom": null,
            "_model_module": "@jupyter-widgets/base",
            "top": null,
            "grid_column": null,
            "overflow_y": null,
            "overflow_x": null,
            "grid_auto_flow": null,
            "grid_area": null,
            "grid_template_columns": null,
            "flex": null,
            "_model_name": "LayoutModel",
            "justify_items": null,
            "grid_row": null,
            "max_height": null,
            "align_content": null,
            "visibility": null,
            "align_self": null,
            "height": null,
            "min_height": null,
            "padding": null,
            "grid_auto_rows": null,
            "grid_gap": null,
            "max_width": null,
            "order": null,
            "_view_module_version": "1.2.0",
            "grid_template_areas": null,
            "object_position": null,
            "object_fit": null,
            "grid_auto_columns": null,
            "margin": null,
            "display": null,
            "left": null
          }
        },
        "aac2a0060e484f9997175436da5b2343": {
          "model_module": "@jupyter-widgets/controls",
          "model_name": "DescriptionStyleModel",
          "model_module_version": "1.5.0",
          "state": {
            "_view_name": "StyleView",
            "_model_name": "DescriptionStyleModel",
            "description_width": "",
            "_view_module": "@jupyter-widgets/base",
            "_model_module_version": "1.5.0",
            "_view_count": null,
            "_view_module_version": "1.2.0",
            "_model_module": "@jupyter-widgets/controls"
          }
        },
        "201028892cf547ed949f3c78bfaaac7a": {
          "model_module": "@jupyter-widgets/base",
          "model_name": "LayoutModel",
          "model_module_version": "1.2.0",
          "state": {
            "_view_name": "LayoutView",
            "grid_template_rows": null,
            "right": null,
            "justify_content": null,
            "_view_module": "@jupyter-widgets/base",
            "overflow": null,
            "_model_module_version": "1.2.0",
            "_view_count": null,
            "flex_flow": null,
            "width": null,
            "min_width": null,
            "border": null,
            "align_items": null,
            "bottom": null,
            "_model_module": "@jupyter-widgets/base",
            "top": null,
            "grid_column": null,
            "overflow_y": null,
            "overflow_x": null,
            "grid_auto_flow": null,
            "grid_area": null,
            "grid_template_columns": null,
            "flex": null,
            "_model_name": "LayoutModel",
            "justify_items": null,
            "grid_row": null,
            "max_height": null,
            "align_content": null,
            "visibility": null,
            "align_self": null,
            "height": null,
            "min_height": null,
            "padding": null,
            "grid_auto_rows": null,
            "grid_gap": null,
            "max_width": null,
            "order": null,
            "_view_module_version": "1.2.0",
            "grid_template_areas": null,
            "object_position": null,
            "object_fit": null,
            "grid_auto_columns": null,
            "margin": null,
            "display": null,
            "left": null
          }
        },
        "f2e1bc97d96b4b2cb2607b4dadf0d077": {
          "model_module": "@jupyter-widgets/controls",
          "model_name": "HBoxModel",
          "model_module_version": "1.5.0",
          "state": {
            "_view_name": "HBoxView",
            "_dom_classes": [],
            "_model_name": "HBoxModel",
            "_view_module": "@jupyter-widgets/controls",
            "_model_module_version": "1.5.0",
            "_view_count": null,
            "_view_module_version": "1.5.0",
            "box_style": "",
            "layout": "IPY_MODEL_18df8b51eb774a419f460e18e41493a6",
            "_model_module": "@jupyter-widgets/controls",
            "children": [
              "IPY_MODEL_6768fe2cb3564fcbbaa67c05c9147953",
              "IPY_MODEL_4d6c1da396f345b4b86251f9c3fdf224",
              "IPY_MODEL_612be091ad694df9b8304fcff3159819"
            ]
          }
        },
        "18df8b51eb774a419f460e18e41493a6": {
          "model_module": "@jupyter-widgets/base",
          "model_name": "LayoutModel",
          "model_module_version": "1.2.0",
          "state": {
            "_view_name": "LayoutView",
            "grid_template_rows": null,
            "right": null,
            "justify_content": null,
            "_view_module": "@jupyter-widgets/base",
            "overflow": null,
            "_model_module_version": "1.2.0",
            "_view_count": null,
            "flex_flow": null,
            "width": null,
            "min_width": null,
            "border": null,
            "align_items": null,
            "bottom": null,
            "_model_module": "@jupyter-widgets/base",
            "top": null,
            "grid_column": null,
            "overflow_y": null,
            "overflow_x": null,
            "grid_auto_flow": null,
            "grid_area": null,
            "grid_template_columns": null,
            "flex": null,
            "_model_name": "LayoutModel",
            "justify_items": null,
            "grid_row": null,
            "max_height": null,
            "align_content": null,
            "visibility": null,
            "align_self": null,
            "height": null,
            "min_height": null,
            "padding": null,
            "grid_auto_rows": null,
            "grid_gap": null,
            "max_width": null,
            "order": null,
            "_view_module_version": "1.2.0",
            "grid_template_areas": null,
            "object_position": null,
            "object_fit": null,
            "grid_auto_columns": null,
            "margin": null,
            "display": null,
            "left": null
          }
        },
        "6768fe2cb3564fcbbaa67c05c9147953": {
          "model_module": "@jupyter-widgets/controls",
          "model_name": "HTMLModel",
          "model_module_version": "1.5.0",
          "state": {
            "_view_name": "HTMLView",
            "style": "IPY_MODEL_c34816225a8e4d05b154704ef5c9a191",
            "_dom_classes": [],
            "description": "",
            "_model_name": "HTMLModel",
            "placeholder": "​",
            "_view_module": "@jupyter-widgets/controls",
            "_model_module_version": "1.5.0",
            "value": "Downloading: 100%",
            "_view_count": null,
            "_view_module_version": "1.5.0",
            "description_tooltip": null,
            "_model_module": "@jupyter-widgets/controls",
            "layout": "IPY_MODEL_585cbf8fa14446fc8811abe0538d9759"
          }
        },
        "4d6c1da396f345b4b86251f9c3fdf224": {
          "model_module": "@jupyter-widgets/controls",
          "model_name": "FloatProgressModel",
          "model_module_version": "1.5.0",
          "state": {
            "_view_name": "ProgressView",
            "style": "IPY_MODEL_5e67b54f988b4b14ae0be6e813e0e7f6",
            "_dom_classes": [],
            "description": "",
            "_model_name": "FloatProgressModel",
            "bar_style": "success",
            "max": 483,
            "_view_module": "@jupyter-widgets/controls",
            "_model_module_version": "1.5.0",
            "value": 483,
            "_view_count": null,
            "_view_module_version": "1.5.0",
            "orientation": "horizontal",
            "min": 0,
            "description_tooltip": null,
            "_model_module": "@jupyter-widgets/controls",
            "layout": "IPY_MODEL_b22214e827404884b61310639e8a5d29"
          }
        },
        "612be091ad694df9b8304fcff3159819": {
          "model_module": "@jupyter-widgets/controls",
          "model_name": "HTMLModel",
          "model_module_version": "1.5.0",
          "state": {
            "_view_name": "HTMLView",
            "style": "IPY_MODEL_7fe1855683e74e26a0c12c070258a0a7",
            "_dom_classes": [],
            "description": "",
            "_model_name": "HTMLModel",
            "placeholder": "​",
            "_view_module": "@jupyter-widgets/controls",
            "_model_module_version": "1.5.0",
            "value": " 483/483 [00:00&lt;00:00, 4.21kB/s]",
            "_view_count": null,
            "_view_module_version": "1.5.0",
            "description_tooltip": null,
            "_model_module": "@jupyter-widgets/controls",
            "layout": "IPY_MODEL_49e127964ca745708a1bb62e7ce5b951"
          }
        },
        "c34816225a8e4d05b154704ef5c9a191": {
          "model_module": "@jupyter-widgets/controls",
          "model_name": "DescriptionStyleModel",
          "model_module_version": "1.5.0",
          "state": {
            "_view_name": "StyleView",
            "_model_name": "DescriptionStyleModel",
            "description_width": "",
            "_view_module": "@jupyter-widgets/base",
            "_model_module_version": "1.5.0",
            "_view_count": null,
            "_view_module_version": "1.2.0",
            "_model_module": "@jupyter-widgets/controls"
          }
        },
        "585cbf8fa14446fc8811abe0538d9759": {
          "model_module": "@jupyter-widgets/base",
          "model_name": "LayoutModel",
          "model_module_version": "1.2.0",
          "state": {
            "_view_name": "LayoutView",
            "grid_template_rows": null,
            "right": null,
            "justify_content": null,
            "_view_module": "@jupyter-widgets/base",
            "overflow": null,
            "_model_module_version": "1.2.0",
            "_view_count": null,
            "flex_flow": null,
            "width": null,
            "min_width": null,
            "border": null,
            "align_items": null,
            "bottom": null,
            "_model_module": "@jupyter-widgets/base",
            "top": null,
            "grid_column": null,
            "overflow_y": null,
            "overflow_x": null,
            "grid_auto_flow": null,
            "grid_area": null,
            "grid_template_columns": null,
            "flex": null,
            "_model_name": "LayoutModel",
            "justify_items": null,
            "grid_row": null,
            "max_height": null,
            "align_content": null,
            "visibility": null,
            "align_self": null,
            "height": null,
            "min_height": null,
            "padding": null,
            "grid_auto_rows": null,
            "grid_gap": null,
            "max_width": null,
            "order": null,
            "_view_module_version": "1.2.0",
            "grid_template_areas": null,
            "object_position": null,
            "object_fit": null,
            "grid_auto_columns": null,
            "margin": null,
            "display": null,
            "left": null
          }
        },
        "5e67b54f988b4b14ae0be6e813e0e7f6": {
          "model_module": "@jupyter-widgets/controls",
          "model_name": "ProgressStyleModel",
          "model_module_version": "1.5.0",
          "state": {
            "_view_name": "StyleView",
            "_model_name": "ProgressStyleModel",
            "description_width": "",
            "_view_module": "@jupyter-widgets/base",
            "_model_module_version": "1.5.0",
            "_view_count": null,
            "_view_module_version": "1.2.0",
            "bar_color": null,
            "_model_module": "@jupyter-widgets/controls"
          }
        },
        "b22214e827404884b61310639e8a5d29": {
          "model_module": "@jupyter-widgets/base",
          "model_name": "LayoutModel",
          "model_module_version": "1.2.0",
          "state": {
            "_view_name": "LayoutView",
            "grid_template_rows": null,
            "right": null,
            "justify_content": null,
            "_view_module": "@jupyter-widgets/base",
            "overflow": null,
            "_model_module_version": "1.2.0",
            "_view_count": null,
            "flex_flow": null,
            "width": null,
            "min_width": null,
            "border": null,
            "align_items": null,
            "bottom": null,
            "_model_module": "@jupyter-widgets/base",
            "top": null,
            "grid_column": null,
            "overflow_y": null,
            "overflow_x": null,
            "grid_auto_flow": null,
            "grid_area": null,
            "grid_template_columns": null,
            "flex": null,
            "_model_name": "LayoutModel",
            "justify_items": null,
            "grid_row": null,
            "max_height": null,
            "align_content": null,
            "visibility": null,
            "align_self": null,
            "height": null,
            "min_height": null,
            "padding": null,
            "grid_auto_rows": null,
            "grid_gap": null,
            "max_width": null,
            "order": null,
            "_view_module_version": "1.2.0",
            "grid_template_areas": null,
            "object_position": null,
            "object_fit": null,
            "grid_auto_columns": null,
            "margin": null,
            "display": null,
            "left": null
          }
        },
        "7fe1855683e74e26a0c12c070258a0a7": {
          "model_module": "@jupyter-widgets/controls",
          "model_name": "DescriptionStyleModel",
          "model_module_version": "1.5.0",
          "state": {
            "_view_name": "StyleView",
            "_model_name": "DescriptionStyleModel",
            "description_width": "",
            "_view_module": "@jupyter-widgets/base",
            "_model_module_version": "1.5.0",
            "_view_count": null,
            "_view_module_version": "1.2.0",
            "_model_module": "@jupyter-widgets/controls"
          }
        },
        "49e127964ca745708a1bb62e7ce5b951": {
          "model_module": "@jupyter-widgets/base",
          "model_name": "LayoutModel",
          "model_module_version": "1.2.0",
          "state": {
            "_view_name": "LayoutView",
            "grid_template_rows": null,
            "right": null,
            "justify_content": null,
            "_view_module": "@jupyter-widgets/base",
            "overflow": null,
            "_model_module_version": "1.2.0",
            "_view_count": null,
            "flex_flow": null,
            "width": null,
            "min_width": null,
            "border": null,
            "align_items": null,
            "bottom": null,
            "_model_module": "@jupyter-widgets/base",
            "top": null,
            "grid_column": null,
            "overflow_y": null,
            "overflow_x": null,
            "grid_auto_flow": null,
            "grid_area": null,
            "grid_template_columns": null,
            "flex": null,
            "_model_name": "LayoutModel",
            "justify_items": null,
            "grid_row": null,
            "max_height": null,
            "align_content": null,
            "visibility": null,
            "align_self": null,
            "height": null,
            "min_height": null,
            "padding": null,
            "grid_auto_rows": null,
            "grid_gap": null,
            "max_width": null,
            "order": null,
            "_view_module_version": "1.2.0",
            "grid_template_areas": null,
            "object_position": null,
            "object_fit": null,
            "grid_auto_columns": null,
            "margin": null,
            "display": null,
            "left": null
          }
        }
      }
    }
  },
  "cells": [
    {
      "cell_type": "markdown",
      "metadata": {
        "id": "view-in-github",
        "colab_type": "text"
      },
      "source": [
        "<a href=\"https://colab.research.google.com/github/glitch401/multi-output-assignment/blob/main/distillbert-multi-label-output.ipynb\" target=\"_parent\"><img src=\"https://colab.research.google.com/assets/colab-badge.svg\" alt=\"Open In Colab\"/></a>"
      ]
    },
    {
      "cell_type": "code",
      "execution_count": 2,
      "metadata": {
        "id": "qK6hJc1Pi4O8"
      },
      "outputs": [],
      "source": [
        "!mkdir data\n",
        "!unzip -q /content/drive/MyDrive/task_data.zip -d ./data"
      ]
    },
    {
      "cell_type": "code",
      "source": [
        "import pandas as pd\n",
        "\n",
        "trainDf = pd.read_csv('/content/data/task_data/train_data.csv')\n",
        "validDf = pd.read_csv('/content/data/task_data/valid_data.csv')\n",
        "\n",
        "trainDf.sample(5)"
      ],
      "metadata": {
        "colab": {
          "base_uri": "https://localhost:8080/",
          "height": 337
        },
        "id": "hzHdaL8Wj-Z_",
        "outputId": "5fd6b30c-d80d-47ab-dbda-313698aee941"
      },
      "execution_count": 3,
      "outputs": [
        {
          "output_type": "execute_result",
          "data": {
            "text/html": [
              "\n",
              "  <div id=\"df-a5f2ba5c-fdd3-4701-8991-924ac4f3003d\">\n",
              "    <div class=\"colab-df-container\">\n",
              "      <div>\n",
              "<style scoped>\n",
              "    .dataframe tbody tr th:only-of-type {\n",
              "        vertical-align: middle;\n",
              "    }\n",
              "\n",
              "    .dataframe tbody tr th {\n",
              "        vertical-align: top;\n",
              "    }\n",
              "\n",
              "    .dataframe thead th {\n",
              "        text-align: right;\n",
              "    }\n",
              "</style>\n",
              "<table border=\"1\" class=\"dataframe\">\n",
              "  <thead>\n",
              "    <tr style=\"text-align: right;\">\n",
              "      <th></th>\n",
              "      <th>path</th>\n",
              "      <th>transcription</th>\n",
              "      <th>action</th>\n",
              "      <th>object</th>\n",
              "      <th>location</th>\n",
              "    </tr>\n",
              "  </thead>\n",
              "  <tbody>\n",
              "    <tr>\n",
              "      <th>11124</th>\n",
              "      <td>wavs/speakers/73bEEYMKLwtmVwV43/4ccc9980-452e-...</td>\n",
              "      <td>Turn down the heat in the washroom</td>\n",
              "      <td>decrease</td>\n",
              "      <td>heat</td>\n",
              "      <td>washroom</td>\n",
              "    </tr>\n",
              "    <tr>\n",
              "      <th>1946</th>\n",
              "      <td>wavs/speakers/anvKyBjB5OiP5dYZ/96d97810-4577-1...</td>\n",
              "      <td>Turn the temperature down in the washroom</td>\n",
              "      <td>decrease</td>\n",
              "      <td>heat</td>\n",
              "      <td>washroom</td>\n",
              "    </tr>\n",
              "    <tr>\n",
              "      <th>981</th>\n",
              "      <td>wavs/speakers/oXjpaOq4wVUezb3x/250fbde0-4511-1...</td>\n",
              "      <td>Increase the sound</td>\n",
              "      <td>increase</td>\n",
              "      <td>volume</td>\n",
              "      <td>none</td>\n",
              "    </tr>\n",
              "    <tr>\n",
              "      <th>9559</th>\n",
              "      <td>wavs/speakers/8e5qRjN7dGuovkRY/24d6e410-4594-1...</td>\n",
              "      <td>Turn up the heat</td>\n",
              "      <td>increase</td>\n",
              "      <td>heat</td>\n",
              "      <td>none</td>\n",
              "    </tr>\n",
              "    <tr>\n",
              "      <th>4768</th>\n",
              "      <td>wavs/speakers/mor8vDGkaOHzLLWBp/58fa72f0-4541-...</td>\n",
              "      <td>Turn the heat up in the washroom</td>\n",
              "      <td>increase</td>\n",
              "      <td>heat</td>\n",
              "      <td>washroom</td>\n",
              "    </tr>\n",
              "  </tbody>\n",
              "</table>\n",
              "</div>\n",
              "      <button class=\"colab-df-convert\" onclick=\"convertToInteractive('df-a5f2ba5c-fdd3-4701-8991-924ac4f3003d')\"\n",
              "              title=\"Convert this dataframe to an interactive table.\"\n",
              "              style=\"display:none;\">\n",
              "        \n",
              "  <svg xmlns=\"http://www.w3.org/2000/svg\" height=\"24px\"viewBox=\"0 0 24 24\"\n",
              "       width=\"24px\">\n",
              "    <path d=\"M0 0h24v24H0V0z\" fill=\"none\"/>\n",
              "    <path d=\"M18.56 5.44l.94 2.06.94-2.06 2.06-.94-2.06-.94-.94-2.06-.94 2.06-2.06.94zm-11 1L8.5 8.5l.94-2.06 2.06-.94-2.06-.94L8.5 2.5l-.94 2.06-2.06.94zm10 10l.94 2.06.94-2.06 2.06-.94-2.06-.94-.94-2.06-.94 2.06-2.06.94z\"/><path d=\"M17.41 7.96l-1.37-1.37c-.4-.4-.92-.59-1.43-.59-.52 0-1.04.2-1.43.59L10.3 9.45l-7.72 7.72c-.78.78-.78 2.05 0 2.83L4 21.41c.39.39.9.59 1.41.59.51 0 1.02-.2 1.41-.59l7.78-7.78 2.81-2.81c.8-.78.8-2.07 0-2.86zM5.41 20L4 18.59l7.72-7.72 1.47 1.35L5.41 20z\"/>\n",
              "  </svg>\n",
              "      </button>\n",
              "      \n",
              "  <style>\n",
              "    .colab-df-container {\n",
              "      display:flex;\n",
              "      flex-wrap:wrap;\n",
              "      gap: 12px;\n",
              "    }\n",
              "\n",
              "    .colab-df-convert {\n",
              "      background-color: #E8F0FE;\n",
              "      border: none;\n",
              "      border-radius: 50%;\n",
              "      cursor: pointer;\n",
              "      display: none;\n",
              "      fill: #1967D2;\n",
              "      height: 32px;\n",
              "      padding: 0 0 0 0;\n",
              "      width: 32px;\n",
              "    }\n",
              "\n",
              "    .colab-df-convert:hover {\n",
              "      background-color: #E2EBFA;\n",
              "      box-shadow: 0px 1px 2px rgba(60, 64, 67, 0.3), 0px 1px 3px 1px rgba(60, 64, 67, 0.15);\n",
              "      fill: #174EA6;\n",
              "    }\n",
              "\n",
              "    [theme=dark] .colab-df-convert {\n",
              "      background-color: #3B4455;\n",
              "      fill: #D2E3FC;\n",
              "    }\n",
              "\n",
              "    [theme=dark] .colab-df-convert:hover {\n",
              "      background-color: #434B5C;\n",
              "      box-shadow: 0px 1px 3px 1px rgba(0, 0, 0, 0.15);\n",
              "      filter: drop-shadow(0px 1px 2px rgba(0, 0, 0, 0.3));\n",
              "      fill: #FFFFFF;\n",
              "    }\n",
              "  </style>\n",
              "\n",
              "      <script>\n",
              "        const buttonEl =\n",
              "          document.querySelector('#df-a5f2ba5c-fdd3-4701-8991-924ac4f3003d button.colab-df-convert');\n",
              "        buttonEl.style.display =\n",
              "          google.colab.kernel.accessAllowed ? 'block' : 'none';\n",
              "\n",
              "        async function convertToInteractive(key) {\n",
              "          const element = document.querySelector('#df-a5f2ba5c-fdd3-4701-8991-924ac4f3003d');\n",
              "          const dataTable =\n",
              "            await google.colab.kernel.invokeFunction('convertToInteractive',\n",
              "                                                     [key], {});\n",
              "          if (!dataTable) return;\n",
              "\n",
              "          const docLinkHtml = 'Like what you see? Visit the ' +\n",
              "            '<a target=\"_blank\" href=https://colab.research.google.com/notebooks/data_table.ipynb>data table notebook</a>'\n",
              "            + ' to learn more about interactive tables.';\n",
              "          element.innerHTML = '';\n",
              "          dataTable['output_type'] = 'display_data';\n",
              "          await google.colab.output.renderOutput(dataTable, element);\n",
              "          const docLink = document.createElement('div');\n",
              "          docLink.innerHTML = docLinkHtml;\n",
              "          element.appendChild(docLink);\n",
              "        }\n",
              "      </script>\n",
              "    </div>\n",
              "  </div>\n",
              "  "
            ],
            "text/plain": [
              "                                                    path  ...  location\n",
              "11124  wavs/speakers/73bEEYMKLwtmVwV43/4ccc9980-452e-...  ...  washroom\n",
              "1946   wavs/speakers/anvKyBjB5OiP5dYZ/96d97810-4577-1...  ...  washroom\n",
              "981    wavs/speakers/oXjpaOq4wVUezb3x/250fbde0-4511-1...  ...      none\n",
              "9559   wavs/speakers/8e5qRjN7dGuovkRY/24d6e410-4594-1...  ...      none\n",
              "4768   wavs/speakers/mor8vDGkaOHzLLWBp/58fa72f0-4541-...  ...  washroom\n",
              "\n",
              "[5 rows x 5 columns]"
            ]
          },
          "metadata": {},
          "execution_count": 3
        }
      ]
    },
    {
      "cell_type": "code",
      "source": [
        "trainDf['location'].value_counts().plot.bar()"
      ],
      "metadata": {
        "colab": {
          "base_uri": "https://localhost:8080/",
          "height": 324
        },
        "id": "evBysIjwGl05",
        "outputId": "eb8c06d6-2517-4aae-d03e-97d0621694cc"
      },
      "execution_count": 4,
      "outputs": [
        {
          "output_type": "execute_result",
          "data": {
            "text/plain": [
              "<matplotlib.axes._subplots.AxesSubplot at 0x7f9cdcf5af10>"
            ]
          },
          "metadata": {},
          "execution_count": 4
        },
        {
          "output_type": "display_data",
          "data": {
            "image/png": "[encoded data removed]",
            "text/plain": [
              "<Figure size 432x288 with 1 Axes>"
            ]
          },
          "metadata": {
            "needs_background": "light"
          }
        }
      ]
    },
    {
      "cell_type": "code",
      "source": [
        "trainDf['action'].value_counts().plot.bar()"
      ],
      "metadata": {
        "colab": {
          "base_uri": "https://localhost:8080/",
          "height": 359
        },
        "id": "EhOhlJP4GonJ",
        "outputId": "aa42bd2f-7a8c-43ef-a381-78bf09a84581"
      },
      "execution_count": 5,
      "outputs": [
        {
          "output_type": "execute_result",
          "data": {
            "text/plain": [
              "<matplotlib.axes._subplots.AxesSubplot at 0x7f9cd6a1ce50>"
            ]
          },
          "metadata": {},
          "execution_count": 5
        },
        {
          "output_type": "display_data",
          "data": {
            "image/png": "[encoded data removed]",
            "text/plain": [
              "<Figure size 432x288 with 1 Axes>"
            ]
          },
          "metadata": {
            "needs_background": "light"
          }
        }
      ]
    },
    {
      "cell_type": "code",
      "source": [
        "trainDf['object'].value_counts().plot.bar()"
      ],
      "metadata": {
        "colab": {
          "base_uri": "https://localhost:8080/",
          "height": 327
        },
        "id": "NuJQkaJtFdM8",
        "outputId": "aedad5e8-d7a6-4d3c-a9d4-74144e7248cb"
      },
      "execution_count": 6,
      "outputs": [
        {
          "output_type": "execute_result",
          "data": {
            "text/plain": [
              "<matplotlib.axes._subplots.AxesSubplot at 0x7f9cd64fd910>"
            ]
          },
          "metadata": {},
          "execution_count": 6
        },
        {
          "output_type": "display_data",
          "data": {
            "image/png": "[encoded data removed]",
            "text/plain": [
              "<Figure size 432x288 with 1 Axes>"
            ]
          },
          "metadata": {
            "needs_background": "light"
          }
        }
      ]
    },
    {
      "cell_type": "code",
      "source": [
        "!pip install transformers -q"
      ],
      "metadata": {
        "id": "Ce7XBfMWF8ZN",
        "colab": {
          "base_uri": "https://localhost:8080/"
        },
        "outputId": "8186c83f-642c-4e83-bad9-c0a73842e305"
      },
      "execution_count": 7,
      "outputs": [
        {
          "output_type": "stream",
          "name": "stdout",
          "text": [
            "\u001b[K     |████████████████████████████████| 3.4 MB 26.8 MB/s \n",
            "\u001b[K     |████████████████████████████████| 67 kB 6.3 MB/s \n",
            "\u001b[K     |████████████████████████████████| 895 kB 57.3 MB/s \n",
            "\u001b[K     |████████████████████████████████| 596 kB 71.2 MB/s \n",
            "\u001b[K     |████████████████████████████████| 3.3 MB 58.0 MB/s \n",
            "\u001b[?25h"
          ]
        }
      ]
    },
    {
      "cell_type": "code",
      "source": [
        "from transformers import BertTokenizer, BertModel, RobertaTokenizer, RobertaModel, DistilBertModel, DistilBertTokenizer\n",
        "from torch import nn as nn\n",
        "import torch\n",
        "from sklearn.preprocessing import LabelEncoder\n",
        "from torch.utils.data import Dataset, DataLoader\n",
        "\n",
        "\n",
        "class TextDataset(Dataset):\n",
        "  def __init__(self, df, tokenizer=DistilBertTokenizer.from_pretrained('distilbert-base-uncased')):\n",
        "    df = df.dropna(axis=0, subset=['transcription'])\n",
        "    self.label_cols = ['action', 'object', 'location']\n",
        "    self.label_encoders = []\n",
        "    \n",
        "    for col in self.label_cols:\n",
        "      le = LabelEncoder()\n",
        "      df[col] = le.fit_transform(df[col])\n",
        "      self.label_encoders.append(le)\n",
        "\n",
        "    self.texts = df['transcription'].tolist()\n",
        "    self.action = df['action'].tolist()\n",
        "    self.object = df['object'].tolist()\n",
        "    self.location = df['location'].tolist()\n",
        "\n",
        "    self.tokenizer = tokenizer\n",
        "\n",
        "  def __getitem__(self, index):\n",
        "      encoded = self.tokenizer.encode_plus(self.texts[index], max_length=60, padding='max_length')\n",
        "      return {\n",
        "          'input_ids': torch.tensor(encoded['input_ids'], dtype=torch.long),\n",
        "          'attention_mask': torch.tensor(encoded['attention_mask'], dtype=torch.long),\n",
        "          # 'token_type_ids': torch.tensor(encoded['token_type_ids'], dtype=torch.long),\n",
        "          'action': torch.tensor(self.action[index], dtype=torch.long),\n",
        "          'object': torch.tensor(self.object[index], dtype=torch.long), \n",
        "          'location': torch.tensor(self.location[index], dtype=torch.long)}\n",
        "      # return encoded['input_ids'], encoded['attention_mask'], self.action[index], self.object[index], self.location[index]\n",
        "\n",
        "      \n",
        "  def __len__(self):\n",
        "    return len(self.location)\n",
        "\n",
        "device = torch.device('cuda:0' if torch.cuda.is_available() else 'cpu')\n",
        "\n",
        "train_batch_size = 32\n",
        "trainSet = TextDataset(trainDf)\n",
        "trainLoader = DataLoader(trainSet, batch_size=train_batch_size, shuffle=True, pin_memory=device)\n",
        "\n",
        "valSet = TextDataset(validDf)\n",
        "valLoader = DataLoader(valSet, batch_size=8, shuffle=True, pin_memory=device)"
      ],
      "metadata": {
        "id": "Usag_zMyJq6R",
        "colab": {
          "base_uri": "https://localhost:8080/",
          "height": 145,
          "referenced_widgets": [
            "2e1836f9e1e04411b080c7bf68d6ff50",
            "9d95ef6278724a73a91f74b086a04ac7",
            "39427feab33b41b0800f99376460cc43",
            "25df1719ece241e098a94ac710ba9f96",
            "0772e153192f4472acae7558ac4e0f3b",
            "4892df1b099746e295a819bcfe9197bd",
            "efdfa1f9770e4744b5f1ccf705851ada",
            "4592c066ffac4d2a948869179ccb3f6d",
            "a116e6a9f17a4292979f52af59d6ddbf",
            "9b05370c51564fabb46629dc93caf05e",
            "9c2684d19c334bbfa2d55ae7a9a9683d",
            "3b920de5621048dd98f4a3349d668666",
            "8be599e5593e4d22b1bf1e8e1e327d91",
            "15e139fcb2b74c62a33c14c316ba602d",
            "372c47e632f4437cbfd15b60b4aaedba",
            "8f17a95c1ba54acba27552f109e668f1",
            "ec5c01d313674f76b2985ce2c2bcf181",
            "c3cfc3cbde00453eb5cb660c19d2646f",
            "20ee91dd11444b3f8e7587ec8825a460",
            "4136487eb7fa4b099c868dc16aedb5e5",
            "9bb6a8ce148e4fafa14290304883dc2e",
            "534c73f7bd574d9ebd7990ef2c12b1aa",
            "3a11f95b1e3d4f739865d5e9bc3bec6a",
            "087b44ff660d4050aa66fc5afa4c20ab",
            "a15ca8f0a1ad4c29b31d569a7ad7fcae",
            "f3fe7e541f3d403d8ffd05da8b4b6624",
            "fcbbf4ac46ff4e6482c78061a9ceaf0b",
            "91d76870a34b42109329f1995bfcb773",
            "f08ce9efc29c42098a5518b9a3fa58b8",
            "6aa2b94d98ab4c9aa4cbaca34b62b601",
            "b15add6c638a4d1f87a55f796de5b85e",
            "aac2a0060e484f9997175436da5b2343",
            "201028892cf547ed949f3c78bfaaac7a",
            "f2e1bc97d96b4b2cb2607b4dadf0d077",
            "18df8b51eb774a419f460e18e41493a6",
            "6768fe2cb3564fcbbaa67c05c9147953",
            "4d6c1da396f345b4b86251f9c3fdf224",
            "612be091ad694df9b8304fcff3159819",
            "c34816225a8e4d05b154704ef5c9a191",
            "585cbf8fa14446fc8811abe0538d9759",
            "5e67b54f988b4b14ae0be6e813e0e7f6",
            "b22214e827404884b61310639e8a5d29",
            "7fe1855683e74e26a0c12c070258a0a7",
            "49e127964ca745708a1bb62e7ce5b951"
          ]
        },
        "outputId": "9f8a3b35-c8b0-4900-c616-e13c052967bd"
      },
      "execution_count": 8,
      "outputs": [
        {
          "output_type": "display_data",
          "data": {
            "application/vnd.jupyter.widget-view+json": {
              "model_id": "2e1836f9e1e04411b080c7bf68d6ff50",
              "version_minor": 0,
              "version_major": 2
            },
            "text/plain": [
              "Downloading:   0%|          | 0.00/226k [00:00<?, ?B/s]"
            ]
          },
          "metadata": {}
        },
        {
          "output_type": "display_data",
          "data": {
            "application/vnd.jupyter.widget-view+json": {
              "model_id": "3b920de5621048dd98f4a3349d668666",
              "version_minor": 0,
              "version_major": 2
            },
            "text/plain": [
              "Downloading:   0%|          | 0.00/28.0 [00:00<?, ?B/s]"
            ]
          },
          "metadata": {}
        },
        {
          "output_type": "display_data",
          "data": {
            "application/vnd.jupyter.widget-view+json": {
              "model_id": "3a11f95b1e3d4f739865d5e9bc3bec6a",
              "version_minor": 0,
              "version_major": 2
            },
            "text/plain": [
              "Downloading:   0%|          | 0.00/455k [00:00<?, ?B/s]"
            ]
          },
          "metadata": {}
        },
        {
          "output_type": "display_data",
          "data": {
            "application/vnd.jupyter.widget-view+json": {
              "model_id": "f2e1bc97d96b4b2cb2607b4dadf0d077",
              "version_minor": 0,
              "version_major": 2
            },
            "text/plain": [
              "Downloading:   0%|          | 0.00/483 [00:00<?, ?B/s]"
            ]
          },
          "metadata": {}
        }
      ]
    },
    {
      "cell_type": "code",
      "source": [
        "from transformers import logging\n",
        "logging.set_verbosity_error()\n",
        "\n",
        "class MultiLabelTextClassifier(nn.Module):\n",
        "  def __init__(self, no_class1,no_class2,no_class3):\n",
        "    super(MultiLabelTextClassifier, self).__init__()\n",
        "    self.distil = DistilBertModel.from_pretrained('distilbert-base-uncased')\n",
        "    self.drop = nn.Dropout(0.3)\n",
        "    self.fc = nn.Linear(768, 256)\n",
        "    self.out1 = nn.Linear(256, no_class1)\n",
        "    self.out2 = nn.Linear(256, no_class2)\n",
        "    self.out3 = nn.Linear(256, no_class3)\n",
        "\n",
        "    self.no_classes = (no_class1,no_class2,no_class3)\n",
        "\n",
        "\n",
        "  def forward(self, input_ids, attention_mask):\n",
        "    out = self.distil(input_ids = input_ids, \n",
        "                   attention_mask =attention_mask,\n",
        "                  #  token_type_ids = data['token_type_ids'], \n",
        "                   return_dict=False)[0][:, 0]\n",
        "    out = self.drop(out)\n",
        "    out = self.fc(out)\n",
        "    out1 = self.out1(out)\n",
        "    out2 = self.out2(out)\n",
        "    out3 = self.out3(out)\n",
        "\n",
        "    return {'action': out1, 'object': out2, 'location': out3}\n",
        "\n",
        "\n",
        "model = MultiLabelTextClassifier(len(trainDf['action'].unique()),\n",
        "                                 len(trainDf['object'].unique()),\n",
        "                                 len(trainDf['location'].unique()),).to(device)\n",
        "# model(next(iter(trainLoader))) # for sanifty check of first pass"
      ],
      "metadata": {
        "id": "-Zts9fFRDU4c"
      },
      "execution_count": 12,
      "outputs": []
    },
    {
      "cell_type": "code",
      "source": [
        "from transformers import AdamW, get_linear_schedule_with_warmup \n",
        "from tqdm import tqdm\n",
        "\n",
        "for parms in model.distil.parameters():\n",
        "    parms.requires_grad = False\n",
        "\n",
        "history = {\n",
        "    'train':[],\n",
        "    'valid':[]\n",
        "}\n",
        "epoch_history = {\n",
        "    'train':[],\n",
        "    'valid':[]\n",
        "}\n",
        "\n",
        "def train_model(model, epochs):\n",
        "  optim = AdamW(model.parameters(), lr=3e-5)\n",
        "  scheduler = get_linear_schedule_with_warmup(optim, num_warmup_steps=0,\n",
        "                                              num_training_steps=len(trainSet)/train_batch_size*epochs)\n",
        "  criterions = [nn.CrossEntropyLoss() for i in range(3)]\n",
        "  criterion1 = nn.CrossEntropyLoss()\n",
        "  best_val_loss = 9999999999\n",
        "  \n",
        "  for epoch in range(1, epochs+1):\n",
        "    model.train()\n",
        "    train_loss, val_loss = 0.0, 0.0\n",
        "    trainLoop = tqdm(enumerate(trainLoader), \n",
        "                               total=len(trainLoader),\n",
        "                               leave=False)\n",
        "    \n",
        "    for i, data in trainLoop:\n",
        "      optim.zero_grad()\n",
        "      labels= [data['action'].to(device), data['object'].to(device), data['location'].to(device)]\n",
        "      output = model(data['input_ids'].to(device), data['attention_mask'].to(device))\n",
        "      labels_h = [output['action'], output['object'], output['location']]\n",
        "      # print(labels[0].shape, labels_h[0].shape)\n",
        "      # loss1 = criterions[0](labels_h[0], labels[0].squeeze())\n",
        "      losses = sum([criterions[i](labels_h[i], labels[i].squeeze()) for i in range(3)])\n",
        "      losses.backward()\n",
        "      optim.step()\n",
        "      scheduler.step()\n",
        "\n",
        "      losss = ((1/(i+1)) * (losses.data-train_loss))\n",
        "      train_loss +=losss\n",
        "      history['train'].append(losss.item())\n",
        "      trainLoop.set_postfix(loss=losss.item())\n",
        "\n",
        "    model.eval()\n",
        "    valLoop = tqdm(enumerate(valLoader), total=len(valLoader), leave=False)\n",
        "    for i, data in valLoop:\n",
        "      labels= [data['action'].to(device), data['object'].to(device), data['location'].to(device)]\n",
        "      output = model(data['input_ids'].to(device), data['attention_mask'].to(device))\n",
        "      labels_h = [output['action'], output['object'], output['location']]\n",
        "      losses = sum([criterions[i](labels_h[i], labels[i].squeeze()) for i in range(3)])\n",
        "      losss = ((1/(i+1)) * (losses.data-val_loss))\n",
        "      val_loss +=losss\n",
        "      history['valid'].append(losss.item())\n",
        "      valLoop.set_postfix(loss=losss.item())\n",
        "    \n",
        "    \n",
        "    epoch_history['train'].append(train_loss)   \n",
        "    epoch_history['valid'].append(val_loss)   \n",
        "    if abs(val_loss) < abs(best_val_loss):\n",
        "            torch.save(model, 'model.pt')\n",
        "\n",
        "  return model\n",
        "\n",
        "\n",
        "trained_model = train_model(model, epochs=5)"
      ],
      "metadata": {
        "id": "uIoLee9JhBOf",
        "colab": {
          "base_uri": "https://localhost:8080/"
        },
        "outputId": "60df8e02-d128-4e56-8b22-14b89e95587e"
      },
      "execution_count": 17,
      "outputs": [
        {
          "output_type": "stream",
          "name": "stderr",
          "text": [
            ""
          ]
        }
      ]
    },
    {
      "cell_type": "code",
      "source": [
        "epoch_history"
      ],
      "metadata": {
        "colab": {
          "base_uri": "https://localhost:8080/"
        },
        "id": "Mhaxq9Jsg5a5",
        "outputId": "34bf4988-63bb-49e6-b28f-e6375dd0765a"
      },
      "execution_count": 18,
      "outputs": [
        {
          "output_type": "execute_result",
          "data": {
            "text/plain": [
              "{'train': [tensor(2.8211, device='cuda:0'),\n",
              "  tensor(2.3745, device='cuda:0'),\n",
              "  tensor(2.1171, device='cuda:0'),\n",
              "  tensor(1.9740, device='cuda:0'),\n",
              "  tensor(1.8998, device='cuda:0')],\n",
              " 'valid': [tensor(2.3964, device='cuda:0'),\n",
              "  tensor(2.0612, device='cuda:0'),\n",
              "  tensor(1.8668, device='cuda:0'),\n",
              "  tensor(1.7650, device='cuda:0'),\n",
              "  tensor(1.7313, device='cuda:0')]}"
            ]
          },
          "metadata": {},
          "execution_count": 18
        }
      ]
    },
    {
      "cell_type": "code",
      "source": [
        "trained_model = train_model(trained_model, epochs=15)\n",
        "epoch_history"
      ],
      "metadata": {
        "colab": {
          "base_uri": "https://localhost:8080/"
        },
        "id": "ASqps7w0hzWy",
        "outputId": "01150d93-7e80-4d53-b2e9-1bfc3b16a77b"
      },
      "execution_count": 19,
      "outputs": [
        {
          "output_type": "stream",
          "name": "stderr",
          "text": [
            ""
          ]
        },
        {
          "output_type": "execute_result",
          "data": {
            "text/plain": [
              "{'train': [tensor(2.8211, device='cuda:0'),\n",
              "  tensor(2.3745, device='cuda:0'),\n",
              "  tensor(2.1171, device='cuda:0'),\n",
              "  tensor(1.9740, device='cuda:0'),\n",
              "  tensor(1.8998, device='cuda:0'),\n",
              "  tensor(1.7413, device='cuda:0'),\n",
              "  tensor(1.5017, device='cuda:0'),\n",
              "  tensor(1.3300, device='cuda:0'),\n",
              "  tensor(1.1984, device='cuda:0'),\n",
              "  tensor(1.0927, device='cuda:0'),\n",
              "  tensor(1.0123, device='cuda:0'),\n",
              "  tensor(0.9505, device='cuda:0'),\n",
              "  tensor(0.8965, device='cuda:0'),\n",
              "  tensor(0.8496, device='cuda:0'),\n",
              "  tensor(0.8156, device='cuda:0'),\n",
              "  tensor(0.7861, device='cuda:0'),\n",
              "  tensor(0.7663, device='cuda:0'),\n",
              "  tensor(0.7497, device='cuda:0'),\n",
              "  tensor(0.7435, device='cuda:0'),\n",
              "  tensor(0.7399, device='cuda:0')],\n",
              " 'valid': [tensor(2.3964, device='cuda:0'),\n",
              "  tensor(2.0612, device='cuda:0'),\n",
              "  tensor(1.8668, device='cuda:0'),\n",
              "  tensor(1.7650, device='cuda:0'),\n",
              "  tensor(1.7313, device='cuda:0'),\n",
              "  tensor(1.4528, device='cuda:0'),\n",
              "  tensor(1.2540, device='cuda:0'),\n",
              "  tensor(1.1058, device='cuda:0'),\n",
              "  tensor(0.9925, device='cuda:0'),\n",
              "  tensor(0.9014, device='cuda:0'),\n",
              "  tensor(0.8260, device='cuda:0'),\n",
              "  tensor(0.7691, device='cuda:0'),\n",
              "  tensor(0.7194, device='cuda:0'),\n",
              "  tensor(0.6801, device='cuda:0'),\n",
              "  tensor(0.6476, device='cuda:0'),\n",
              "  tensor(0.6229, device='cuda:0'),\n",
              "  tensor(0.6045, device='cuda:0'),\n",
              "  tensor(0.5921, device='cuda:0'),\n",
              "  tensor(0.5854, device='cuda:0'),\n",
              "  tensor(0.5826, device='cuda:0')]}"
            ]
          },
          "metadata": {},
          "execution_count": 19
        }
      ]
    },
    {
      "cell_type": "code",
      "source": [
        "import matplotlib.pyplot as plt\n",
        "\n",
        "plt.plot(epoch_history['train'])\n",
        "plt.plot(epoch_history['valid'])\n",
        "plt.xlabel('Epochs')\n",
        "plt.ylabel('Loss')\n",
        "plt.show()"
      ],
      "metadata": {
        "id": "sM58wbp_OtHP",
        "colab": {
          "base_uri": "https://localhost:8080/",
          "height": 279
        },
        "outputId": "ba483864-78da-41c5-da62-633325db7c35"
      },
      "execution_count": 21,
      "outputs": [
        {
          "output_type": "display_data",
          "data": {
            "image/png": "[encoded data removed]",
            "text/plain": [
              "<Figure size 432x288 with 1 Axes>"
            ]
          },
          "metadata": {
            "needs_background": "light"
          }
        }
      ]
    },
    {
      "cell_type": "code",
      "source": [
        "def infer(model, text, device = torch.device('cpu'),\n",
        "          tokenizer=DistilBertTokenizer.from_pretrained('distilbert-base-uncased')):\n",
        "  model = model.to(device)\n",
        "  model.eval()\n",
        "  # if not isinstance(texts, list):\n",
        "  #   texts = [texts]\n",
        "\n",
        "  print(text)\n",
        "  encoded = tokenizer.encode_plus(text)\n",
        "  out = model(torch.tensor(encoded['input_ids'], dtype=torch.long).to(device).view(1,-1), \n",
        "              torch.tensor(encoded['attention_mask'], dtype=torch.long).to(device).view(1,-1))\n",
        "  \n",
        "  return (valSet.label_encoders[0].inverse_transform([torch.argmax(out['action'])])[0], \n",
        "        valSet.label_encoders[1].inverse_transform([torch.argmax(out['object'])])[0], \n",
        "        valSet.label_encoders[2].inverse_transform([torch.argmax(out['location'])])[0])\n",
        "\n",
        "infer(trained_model, 'Switch on the lights in the bedroom')"
      ],
      "metadata": {
        "colab": {
          "base_uri": "https://localhost:8080/"
        },
        "id": "qtEik8pbkj4x",
        "outputId": "134c8dc9-de02-451c-887a-b5e1ee5215b3"
      },
      "execution_count": 53,
      "outputs": [
        {
          "output_type": "stream",
          "name": "stdout",
          "text": [
            "Switch on the lights in the bedroom\n"
          ]
        },
        {
          "output_type": "execute_result",
          "data": {
            "text/plain": [
              "('activate', 'lights', 'bedroom')"
            ]
          },
          "metadata": {},
          "execution_count": 53
        }
      ]
    }
  ]
}